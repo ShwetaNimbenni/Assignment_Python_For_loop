{
 "cells": [
  {
   "cell_type": "markdown",
   "id": "1036a8c7-39fe-424a-bd61-91ea629e4e8a",
   "metadata": {},
   "source": [
    "Basic Level:"
   ]
  },
  {
   "cell_type": "markdown",
   "id": "2e47d4c8-ed3f-40b9-b5aa-4a6dae78bb26",
   "metadata": {},
   "source": [
    "1. Write a Python program to print the numbers from 1 to 10 using a `for` loop."
   ]
  },
  {
   "cell_type": "code",
   "execution_count": 6,
   "id": "c4ef180e-9fb2-4c71-9ee0-2a4d2371f977",
   "metadata": {},
   "outputs": [
    {
     "name": "stdout",
     "output_type": "stream",
     "text": [
      "1\n",
      "2\n",
      "3\n",
      "4\n",
      "5\n",
      "6\n",
      "7\n",
      "8\n",
      "9\n",
      "10\n"
     ]
    }
   ],
   "source": [
    "for i in range(1, 11):\n",
    "    print(i)"
   ]
  },
  {
   "cell_type": "markdown",
   "id": "90b1644e-28e1-4ac4-9142-2536c62d51e7",
   "metadata": {},
   "source": [
    "2. Create a program that calculates the sum of all numbers in a list using a `for` loop."
   ]
  },
  {
   "cell_type": "code",
   "execution_count": 7,
   "id": "92c44e86-662f-4ea9-ba4f-b8a06645af36",
   "metadata": {},
   "outputs": [
    {
     "name": "stdout",
     "output_type": "stream",
     "text": [
      "The sum of all numbers in the list is: 55\n"
     ]
    }
   ],
   "source": [
    "# Define a list of numbers\n",
    "numbers = [1, 2, 3, 4, 5, 6, 7, 8, 9, 10]\n",
    "\n",
    "# Initialize a variable to store the sum\n",
    "total = 0\n",
    "\n",
    "# Use a for loop to iterate through the list and calculate the sum\n",
    "for num in numbers:\n",
    "    total += num\n",
    "\n",
    "# Print the sum\n",
    "print(\"The sum of all numbers in the list is:\", total)"
   ]
  },
  {
   "cell_type": "markdown",
   "id": "a4ead0b6-528b-42bf-8953-5c299cc95177",
   "metadata": {},
   "source": [
    "3. Write a program to print the characters of a string in reverse order using a `for` loop."
   ]
  },
  {
   "cell_type": "code",
   "execution_count": 8,
   "id": "64c374e3-d9da-4d21-a31e-50233118220e",
   "metadata": {},
   "outputs": [
    {
     "name": "stdout",
     "output_type": "stream",
     "text": [
      "Reversed string: !dlroW ,olleH\n"
     ]
    }
   ],
   "source": [
    "# Input string\n",
    "input_string = \"Hello, World!\"\n",
    "\n",
    "# Initialize an empty string to store the reversed characters\n",
    "reversed_string = \"\"\n",
    "\n",
    "# Use a for loop to iterate through the input string in reverse order\n",
    "for char in reversed(input_string):\n",
    "    reversed_string += char\n",
    "\n",
    "# Print the reversed string\n",
    "print(\"Reversed string:\", reversed_string)"
   ]
  },
  {
   "cell_type": "markdown",
   "id": "5f2af5a7-f180-469b-809a-247cd1c753a4",
   "metadata": {},
   "source": [
    "4. Develop a program that finds the factorial of a given number using a `for` loop."
   ]
  },
  {
   "cell_type": "code",
   "execution_count": 9,
   "id": "fdd388ae-1aa0-44fc-aaa3-4e56dfb58bec",
   "metadata": {},
   "outputs": [
    {
     "name": "stdin",
     "output_type": "stream",
     "text": [
      "Enter a number:  5\n"
     ]
    },
    {
     "name": "stdout",
     "output_type": "stream",
     "text": [
      "The factorial of 5 is 120\n"
     ]
    }
   ],
   "source": [
    "# Input: The number for which you want to find the factorial\n",
    "number = int(input(\"Enter a number: \"))\n",
    "\n",
    "# Initialize a variable to store the factorial\n",
    "factorial = 1\n",
    "\n",
    "# Check if the input number is negative\n",
    "if number < 0:\n",
    "    print(\"Factorial is not defined for negative numbers.\")\n",
    "elif number == 0:\n",
    "    print(\"The factorial of 0 is 1\")\n",
    "else:\n",
    "    # Use a for loop to calculate the factorial\n",
    "    for i in range(1, number + 1):\n",
    "        factorial *= i\n",
    "\n",
    "    # Print the factorial\n",
    "    print(f\"The factorial of {number} is {factorial}\")"
   ]
  },
  {
   "cell_type": "markdown",
   "id": "1e07440d-c3a7-4f2e-aa07-ac256901845f",
   "metadata": {},
   "source": [
    "5. Create a program to print the multiplication table of a given number using a `for` loop."
   ]
  },
  {
   "cell_type": "code",
   "execution_count": 1,
   "id": "50b7d19e-4ad4-483f-9480-060ed2733427",
   "metadata": {},
   "outputs": [
    {
     "name": "stdin",
     "output_type": "stream",
     "text": [
      "Enter a number:  4\n"
     ]
    },
    {
     "name": "stdout",
     "output_type": "stream",
     "text": [
      "4 x 1 = 4\n",
      "4 x 2 = 8\n",
      "4 x 3 = 12\n",
      "4 x 4 = 16\n",
      "4 x 5 = 20\n",
      "4 x 6 = 24\n",
      "4 x 7 = 28\n",
      "4 x 8 = 32\n",
      "4 x 9 = 36\n",
      "4 x 10 = 40\n"
     ]
    }
   ],
   "source": [
    "# Input: The number for which you want to print the multiplication table\n",
    "number = int(input(\"Enter a number: \"))\n",
    "\n",
    "# Iterate from 1 to 10 to print the multiplication table\n",
    "for i in range(1, 11):\n",
    "    product = number * i\n",
    "    print(f\"{number} x {i} = {product}\")"
   ]
  },
  {
   "cell_type": "markdown",
   "id": "1839ce5e-94ad-453b-ae68-938e19906f14",
   "metadata": {},
   "source": [
    "6. Write a program that counts the number of even and odd numbers in a list using a `for` loop."
   ]
  },
  {
   "cell_type": "code",
   "execution_count": 7,
   "id": "1f8a773d-b262-47a6-b9f5-0d92ae45a275",
   "metadata": {},
   "outputs": [
    {
     "name": "stdout",
     "output_type": "stream",
     "text": [
      "Number of even numbers: 5\n",
      "Number of odd numbers: 5\n"
     ]
    }
   ],
   "source": [
    "# Define a list of numbers\n",
    "numbers = [1, 2, 3, 4, 5, 6, 7, 8, 9, 10]\n",
    "\n",
    "# Initialize counters for even and odd numbers\n",
    "even_count = 0\n",
    "odd_count = 0\n",
    "\n",
    "# Use a for loop to iterate through the list and count even and odd numbers\n",
    "for num in numbers:\n",
    "    if num % 2 == 0:\n",
    "        even_count += 1\n",
    "    else:\n",
    "        odd_count += 1\n",
    "\n",
    "# Print the counts\n",
    "print(\"Number of even numbers:\", even_count)\n",
    "print(\"Number of odd numbers:\", odd_count)"
   ]
  },
  {
   "cell_type": "markdown",
   "id": "645feac0-9ac4-4e0d-9730-2112b7cdfb01",
   "metadata": {},
   "source": [
    "7. Develop a program that prints the squares of numbers from 1 to 5 using a `for` loop."
   ]
  },
  {
   "cell_type": "code",
   "execution_count": 8,
   "id": "1fa0ff4f-6abe-461a-a263-9a86789b667a",
   "metadata": {},
   "outputs": [
    {
     "name": "stdout",
     "output_type": "stream",
     "text": [
      "The square of 1 is 1\n",
      "The square of 2 is 4\n",
      "The square of 3 is 9\n",
      "The square of 4 is 16\n",
      "The square of 5 is 25\n"
     ]
    }
   ],
   "source": [
    "# Use a for loop to iterate from 1 to 5\n",
    "for num in range(1, 6):\n",
    "    square = num ** 2\n",
    "    print(f\"The square of {num} is {square}\")"
   ]
  },
  {
   "cell_type": "markdown",
   "id": "9d0b9434-b053-4f04-83f7-12dfadf29dc1",
   "metadata": {},
   "source": [
    "8. Create a program to find the length of a string without using the `len()` function."
   ]
  },
  {
   "cell_type": "code",
   "execution_count": null,
   "id": "f9858eac-cfcc-43c8-b6f2-74a5e78823ca",
   "metadata": {},
   "outputs": [
    {
     "name": "stdin",
     "output_type": "stream",
     "text": [
      "Enter a string:  Shweta\n"
     ]
    },
    {
     "name": "stdout",
     "output_type": "stream",
     "text": [
      "Length of the string: 6\n"
     ]
    }
   ],
   "source": [
    "# Input string\n",
    "input_string = input(\"Enter a string: \")\n",
    "\n",
    "# Initialize a counter for the length\n",
    "length = 0\n",
    "\n",
    "# Use a for loop to iterate through the characters of the string\n",
    "for char in input_string:\n",
    "    length += 1\n",
    "\n",
    "# Print the length of the string\n",
    "print(\"Length of the string:\", length)"
   ]
  },
  {
   "cell_type": "markdown",
   "id": "8fb8b5e1-34e5-4d91-b029-c40684179860",
   "metadata": {},
   "source": [
    "9. Write a program that calculates the average of a list of numbers using a `for` loop."
   ]
  },
  {
   "cell_type": "code",
   "execution_count": 11,
   "id": "7b3d072e-9b27-4e2f-8191-0c3168ec9afd",
   "metadata": {},
   "outputs": [
    {
     "name": "stdout",
     "output_type": "stream",
     "text": [
      "The average of the numbers is: 54.0\n"
     ]
    }
   ],
   "source": [
    "# Define a list of numbers\n",
    "numbers = [12, 34, 56, 78, 90]\n",
    "\n",
    "# Initialize variables for sum and count\n",
    "total = 0\n",
    "count = 0\n",
    "\n",
    "# Use a for loop to calculate the sum and count\n",
    "for num in numbers:\n",
    "    total += num\n",
    "    count += 1\n",
    "\n",
    "# Calculate the average\n",
    "if count > 0:\n",
    "    average = total / count\n",
    "    print(\"The average of the numbers is:\", average)\n",
    "else:\n",
    "    print(\"The list is empty, so the average cannot be calculated.\")"
   ]
  },
  {
   "cell_type": "markdown",
   "id": "1b9bdf0b-fa51-4e07-9954-bed2c8b64178",
   "metadata": {},
   "source": [
    "10. Develop a program that prints the first `n` Fibonacci numbers using a `for` loop."
   ]
  },
  {
   "cell_type": "code",
   "execution_count": 13,
   "id": "fb7e4f84-ad1d-41d9-a79d-b2938009abd3",
   "metadata": {},
   "outputs": [
    {
     "name": "stdin",
     "output_type": "stream",
     "text": [
      "Enter the number of Fibonacci numbers to generate:  5\n"
     ]
    },
    {
     "name": "stdout",
     "output_type": "stream",
     "text": [
      "Fibonacci sequence:\n",
      "0\n",
      "1\n",
      "1\n",
      "2\n",
      "3\n"
     ]
    }
   ],
   "source": [
    "# Input: Number of Fibonacci numbers to generate\n",
    "n = int(input(\"Enter the number of Fibonacci numbers to generate: \"))\n",
    "\n",
    "# Initialize the first two Fibonacci numbers\n",
    "fibonacci_sequence = [0, 1]\n",
    "\n",
    "# Use a for loop to generate the Fibonacci sequence\n",
    "for i in range(2, n):\n",
    "    next_number = fibonacci_sequence[i - 1] + fibonacci_sequence[i - 2]\n",
    "    fibonacci_sequence.append(next_number)\n",
    "\n",
    "# Print the first n Fibonacci numbers\n",
    "print(\"Fibonacci sequence:\")\n",
    "for num in fibonacci_sequence:\n",
    "    print(num)"
   ]
  },
  {
   "cell_type": "markdown",
   "id": "d5dc8319-a605-43cc-b232-4363c6f8b820",
   "metadata": {},
   "source": [
    "Intermediate Level:"
   ]
  },
  {
   "cell_type": "markdown",
   "id": "f2a6362b-f509-4e2a-997f-23bfe3c05ff7",
   "metadata": {},
   "source": [
    "11. Write a program to check if a given list contains any duplicates using a `for` loop."
   ]
  },
  {
   "cell_type": "code",
   "execution_count": 14,
   "id": "d710b27c-4c0e-45e7-b366-7c7c3990b3a5",
   "metadata": {},
   "outputs": [
    {
     "name": "stdout",
     "output_type": "stream",
     "text": [
      "The list contains duplicates.\n"
     ]
    }
   ],
   "source": [
    "# Define a list of elements\n",
    "elements = [1, 2, 3, 4, 5, 2]  # Change this list as needed\n",
    "\n",
    "# Initialize an empty set to store unique elements\n",
    "unique_elements = set()\n",
    "\n",
    "# Initialize a flag to track duplicates\n",
    "has_duplicates = False\n",
    "\n",
    "# Use a for loop to iterate through the list\n",
    "for element in elements:\n",
    "    if element in unique_elements:\n",
    "        has_duplicates = True\n",
    "        break  # Exit the loop if a duplicate is found\n",
    "    unique_elements.add(element)\n",
    "\n",
    "# Check if there are duplicates and print the result\n",
    "if has_duplicates:\n",
    "    print(\"The list contains duplicates.\")\n",
    "else:\n",
    "    print(\"The list does not contain duplicates.\")"
   ]
  },
  {
   "cell_type": "markdown",
   "id": "2fb7d9da-66b4-49ff-a2c2-e4ea7aadeb96",
   "metadata": {},
   "source": [
    "12. Create a program that prints the prime numbers in a given range using a `for` loop."
   ]
  },
  {
   "cell_type": "code",
   "execution_count": 15,
   "id": "a59539ea-80db-482e-a3e4-1de0ffddc62e",
   "metadata": {},
   "outputs": [
    {
     "name": "stdin",
     "output_type": "stream",
     "text": [
      "Enter the starting number:  5\n",
      "Enter the ending number:  25\n"
     ]
    },
    {
     "name": "stdout",
     "output_type": "stream",
     "text": [
      "Prime numbers in the range 5 to 25 are:\n",
      "5\n",
      "7\n",
      "11\n",
      "13\n",
      "17\n",
      "19\n",
      "23\n"
     ]
    }
   ],
   "source": [
    "# Input: Range for prime numbers\n",
    "start = int(input(\"Enter the starting number: \"))\n",
    "end = int(input(\"Enter the ending number: \"))\n",
    "\n",
    "print(\"Prime numbers in the range\", start, \"to\", end, \"are:\")\n",
    "\n",
    "# Use a for loop to iterate through the range\n",
    "for num in range(start, end + 1):\n",
    "    if num > 1:  # Prime numbers are greater than 1\n",
    "        is_prime = True\n",
    "        for i in range(2, int(num ** 0.5) + 1):\n",
    "            if num % i == 0:\n",
    "                is_prime = False\n",
    "                break\n",
    "        if is_prime:\n",
    "            print(num)"
   ]
  },
  {
   "cell_type": "markdown",
   "id": "601f928d-299c-446c-ab93-9def6cf9a68c",
   "metadata": {},
   "source": [
    "13. Develop a program that counts the number of vowels in a string using a `for` loop."
   ]
  },
  {
   "cell_type": "code",
   "execution_count": 17,
   "id": "3e3805ca-3a46-4f74-90ca-e65b00a80d18",
   "metadata": {},
   "outputs": [
    {
     "name": "stdin",
     "output_type": "stream",
     "text": [
      "Enter a string:  shweta\n"
     ]
    },
    {
     "name": "stdout",
     "output_type": "stream",
     "text": [
      "Number of vowels in the string: 2\n"
     ]
    }
   ],
   "source": [
    "# Input string\n",
    "input_string = input(\"Enter a string: \")\n",
    "\n",
    "# Convert the input string to lowercase (for case-insensitive counting)\n",
    "input_string = input_string.lower()\n",
    "\n",
    "# Initialize a variable to store the vowel count\n",
    "vowel_count = 0\n",
    "\n",
    "# Define a set of vowels\n",
    "vowels = {'a', 'e', 'i', 'o', 'u'}\n",
    "\n",
    "# Use a for loop to iterate through the characters in the string\n",
    "for char in input_string:\n",
    "    if char in vowels:\n",
    "        vowel_count += 1\n",
    "\n",
    "# Print the vowel count\n",
    "print(\"Number of vowels in the string:\", vowel_count)"
   ]
  },
  {
   "cell_type": "markdown",
   "id": "3480ffa6-0d3e-4a76-8f42-4799ef2714a2",
   "metadata": {},
   "source": [
    "14. Write a program to find the maximum element in a 2D list using a nested `for` loop."
   ]
  },
  {
   "cell_type": "code",
   "execution_count": 20,
   "id": "171ca4d1-c89f-4210-b46d-e563357c9da5",
   "metadata": {},
   "outputs": [
    {
     "name": "stdout",
     "output_type": "stream",
     "text": [
      "The maximum element in the 2D list is: 9\n"
     ]
    }
   ],
   "source": [
    "# Define a 2D list\n",
    "matrix = [\n",
    "    [3, 5, 2],\n",
    "    [9, 1, 8],\n",
    "    [7, 4, 6]\n",
    "]\n",
    "\n",
    "# Initialize a variable to store the maximum element\n",
    "max_element = matrix[0][0]\n",
    "\n",
    "# Use nested for loops to iterate through the 2D list\n",
    "for row in matrix:\n",
    "    for element in row:\n",
    "        if element > max_element:\n",
    "            max_element = element\n",
    "\n",
    "# Print the maximum element\n",
    "print(\"The maximum element in the 2D list is:\", max_element)"
   ]
  },
  {
   "cell_type": "markdown",
   "id": "6442e889-f4a3-49c5-851c-9d58f02f000d",
   "metadata": {},
   "source": [
    "15. Create a program that removes all occurrences of a specific element from a list using a `for` loop."
   ]
  },
  {
   "cell_type": "code",
   "execution_count": 21,
   "id": "e5a0b141-6c9d-425a-af22-a651d74f0df8",
   "metadata": {},
   "outputs": [
    {
     "name": "stdout",
     "output_type": "stream",
     "text": [
      "Original list: [1, 2, 3, 2, 4, 5, 2]\n",
      "List after removing 2: [1, 3, 4, 5]\n"
     ]
    }
   ],
   "source": [
    "# Define a list\n",
    "my_list = [1, 2, 3, 2, 4, 5, 2]\n",
    "\n",
    "# Element to be removed\n",
    "element_to_remove = 2\n",
    "\n",
    "# Use a for loop to iterate through the list\n",
    "# Create a new list without the specified element\n",
    "new_list = []\n",
    "for element in my_list:\n",
    "    if element != element_to_remove:\n",
    "        new_list.append(element)\n",
    "\n",
    "# Print the new list without the specified element\n",
    "print(\"Original list:\", my_list)\n",
    "print(f\"List after removing {element_to_remove}:\", new_list)"
   ]
  },
  {
   "cell_type": "markdown",
   "id": "80954041-8201-4f03-b1ce-707a23245e51",
   "metadata": {},
   "source": [
    "16. Develop a program that generates a multiplication table for numbers from 1 to 5 using a nested `for` loop."
   ]
  },
  {
   "cell_type": "code",
   "execution_count": 1,
   "id": "3a20d673-0c69-4ec9-bbef-31cb53e43ec6",
   "metadata": {},
   "outputs": [
    {
     "name": "stdout",
     "output_type": "stream",
     "text": [
      "Multiplication table for 1:\n",
      "1 x 1 = 1\n",
      "1 x 2 = 2\n",
      "1 x 3 = 3\n",
      "1 x 4 = 4\n",
      "1 x 5 = 5\n",
      "1 x 6 = 6\n",
      "1 x 7 = 7\n",
      "1 x 8 = 8\n",
      "1 x 9 = 9\n",
      "1 x 10 = 10\n",
      "--------------------\n",
      "Multiplication table for 2:\n",
      "2 x 1 = 2\n",
      "2 x 2 = 4\n",
      "2 x 3 = 6\n",
      "2 x 4 = 8\n",
      "2 x 5 = 10\n",
      "2 x 6 = 12\n",
      "2 x 7 = 14\n",
      "2 x 8 = 16\n",
      "2 x 9 = 18\n",
      "2 x 10 = 20\n",
      "--------------------\n",
      "Multiplication table for 3:\n",
      "3 x 1 = 3\n",
      "3 x 2 = 6\n",
      "3 x 3 = 9\n",
      "3 x 4 = 12\n",
      "3 x 5 = 15\n",
      "3 x 6 = 18\n",
      "3 x 7 = 21\n",
      "3 x 8 = 24\n",
      "3 x 9 = 27\n",
      "3 x 10 = 30\n",
      "--------------------\n",
      "Multiplication table for 4:\n",
      "4 x 1 = 4\n",
      "4 x 2 = 8\n",
      "4 x 3 = 12\n",
      "4 x 4 = 16\n",
      "4 x 5 = 20\n",
      "4 x 6 = 24\n",
      "4 x 7 = 28\n",
      "4 x 8 = 32\n",
      "4 x 9 = 36\n",
      "4 x 10 = 40\n",
      "--------------------\n",
      "Multiplication table for 5:\n",
      "5 x 1 = 5\n",
      "5 x 2 = 10\n",
      "5 x 3 = 15\n",
      "5 x 4 = 20\n",
      "5 x 5 = 25\n",
      "5 x 6 = 30\n",
      "5 x 7 = 35\n",
      "5 x 8 = 40\n",
      "5 x 9 = 45\n",
      "5 x 10 = 50\n",
      "--------------------\n"
     ]
    }
   ],
   "source": [
    "# Define the range of numbers for the multiplication table\n",
    "start_num = 1\n",
    "end_num = 5\n",
    "\n",
    "# Iterate through the numbers from start_num to end_num\n",
    "for i in range(start_num, end_num + 1):\n",
    "    # Print a header for the current number\n",
    "    print(f\"Multiplication table for {i}:\")\n",
    "\n",
    "    # Nested loop to calculate and print the multiplication table\n",
    "    for j in range(1, 11):  # Multiplication table from 1 to 10\n",
    "        product = i * j\n",
    "        print(f\"{i} x {j} = {product}\")\n",
    "\n",
    "    # Add a separator line between tables\n",
    "    print(\"-\" * 20)"
   ]
  },
  {
   "cell_type": "markdown",
   "id": "a7f15b8d-681b-4173-9adf-a642e0746e0c",
   "metadata": {},
   "source": [
    "17. Write a program that converts a list of Fahrenheit temperatures to Celsius using a `for` loop."
   ]
  },
  {
   "cell_type": "code",
   "execution_count": 2,
   "id": "8a707df2-169d-404e-82dc-241371fd6e76",
   "metadata": {},
   "outputs": [
    {
     "name": "stdout",
     "output_type": "stream",
     "text": [
      "32°F is equal to 0.00°C\n",
      "68°F is equal to 20.00°C\n",
      "100°F is equal to 37.78°C\n",
      "212°F is equal to 100.00°C\n",
      "50°F is equal to 10.00°C\n"
     ]
    }
   ],
   "source": [
    "# Create a list of Fahrenheit temperatures\n",
    "fahrenheit_temperatures = [32, 68, 100, 212, 50]\n",
    "\n",
    "# Create an empty list to store the converted Celsius temperatures\n",
    "celsius_temperatures = []\n",
    "\n",
    "# Iterate through the Fahrenheit temperatures and convert to Celsius\n",
    "for fahrenheit in fahrenheit_temperatures:\n",
    "    celsius = (fahrenheit - 32) * 5/9\n",
    "    celsius_temperatures.append(celsius)\n",
    "\n",
    "# Display the original Fahrenheit temperatures and their Celsius equivalents\n",
    "for i in range(len(fahrenheit_temperatures)):\n",
    "    print(f\"{fahrenheit_temperatures[i]}°F is equal to {celsius_temperatures[i]:.2f}°C\")"
   ]
  },
  {
   "cell_type": "markdown",
   "id": "8f3ed884-1c8d-4ef7-b7a2-41b1f28df896",
   "metadata": {},
   "source": [
    "18. Create a program to print the common elements from two lists using a `for` loop."
   ]
  },
  {
   "cell_type": "code",
   "execution_count": 4,
   "id": "f596804b-24a3-481b-9309-2c3648d9ede8",
   "metadata": {},
   "outputs": [
    {
     "name": "stdout",
     "output_type": "stream",
     "text": [
      "Common elements between list1 and list2: [3, 4, 5]\n"
     ]
    }
   ],
   "source": [
    "# Define two lists\n",
    "list1 = [1, 2, 3, 4, 5]\n",
    "list2 = [3, 4, 5, 6, 7]\n",
    "\n",
    "# Create an empty list to store the common elements\n",
    "common_elements = []\n",
    "\n",
    "# Iterate through the elements of list1\n",
    "for element1 in list1:\n",
    "    # Check if the element is also in list2\n",
    "    if element1 in list2:\n",
    "        # If it's common, add it to the common_elements list\n",
    "        common_elements.append(element1)\n",
    "\n",
    "# Print the common elements\n",
    "print(\"Common elements between list1 and list2:\", common_elements)"
   ]
  },
  {
   "cell_type": "markdown",
   "id": "36e7280c-e028-4a2f-bae0-e39248c3bf8c",
   "metadata": {},
   "source": [
    "19. Develop a program that prints the pattern of right-angled triangles using a `for` loop. Use ‘*’ to draw the\n",
    "pattern"
   ]
  },
  {
   "cell_type": "code",
   "execution_count": 6,
   "id": "b5567502-c886-4ad9-8b93-7400a303ea80",
   "metadata": {},
   "outputs": [
    {
     "name": "stdout",
     "output_type": "stream",
     "text": [
      "* \n",
      "* * \n",
      "* * * \n",
      "* * * * \n",
      "* * * * * \n"
     ]
    }
   ],
   "source": [
    "# Define the number of rows for the right-angled triangle\n",
    "num_rows = 5\n",
    "\n",
    "# Outer loop for rows\n",
    "for i in range(1, num_rows + 1):\n",
    "    # Inner loop for printing '*' characters\n",
    "    for j in range(i):\n",
    "        print('*', end=' ')\n",
    "    # Move to the next line after each row\n",
    "    print()"
   ]
  },
  {
   "cell_type": "markdown",
   "id": "4938c47d-37c2-40ce-a607-eac0609b319a",
   "metadata": {},
   "source": [
    "20. Write a program to find the greatest common divisor (GCD) of two numbers using a `for` loop."
   ]
  },
  {
   "cell_type": "code",
   "execution_count": 8,
   "id": "6f7dd4e0-59ae-4317-b526-53f4aca8b1b8",
   "metadata": {},
   "outputs": [
    {
     "name": "stdin",
     "output_type": "stream",
     "text": [
      "Enter the first number:  10\n",
      "Enter the second number:  15\n"
     ]
    },
    {
     "name": "stdout",
     "output_type": "stream",
     "text": [
      "The GCD of 10 and 15 is 5\n"
     ]
    }
   ],
   "source": [
    "# Function to calculate the GCD of two numbers using the Euclidean algorithm\n",
    "def calculate_gcd(a, b):\n",
    "    while b:\n",
    "        a, b = b, a % b\n",
    "    return a\n",
    "\n",
    "# Input two numbers from the user\n",
    "num1 = int(input(\"Enter the first number: \"))\n",
    "num2 = int(input(\"Enter the second number: \"))\n",
    "\n",
    "# Calculate and print the GCD\n",
    "gcd = calculate_gcd(num1, num2)\n",
    "print(f\"The GCD of {num1} and {num2} is {gcd}\")"
   ]
  },
  {
   "cell_type": "markdown",
   "id": "2cfdc972-0b42-459c-bd5e-df381a88c445",
   "metadata": {},
   "source": [
    "Advanced Level:"
   ]
  },
  {
   "cell_type": "markdown",
   "id": "445c5d1b-cbc7-451b-af4b-d5fe1d785e04",
   "metadata": {},
   "source": [
    "21. Create a program that calculates the sum of the digits of numbers in a list using a list comprehension."
   ]
  },
  {
   "cell_type": "code",
   "execution_count": 9,
   "id": "ccf8d87c-c5e1-45fe-b164-dfca85d547fd",
   "metadata": {},
   "outputs": [
    {
     "name": "stdout",
     "output_type": "stream",
     "text": [
      "Number: 123, Sum of digits: 6\n",
      "Number: 456, Sum of digits: 15\n",
      "Number: 789, Sum of digits: 24\n",
      "Number: 12, Sum of digits: 3\n",
      "Number: 34, Sum of digits: 7\n"
     ]
    }
   ],
   "source": [
    "# Function to calculate the sum of digits of a number\n",
    "def sum_of_digits(number):\n",
    "    return sum(int(digit) for digit in str(number))\n",
    "\n",
    "# List of numbers\n",
    "numbers = [123, 456, 789, 12, 34]\n",
    "\n",
    "# Use list comprehension to calculate the sum of digits for each number\n",
    "sums = [sum_of_digits(number) for number in numbers]\n",
    "\n",
    "# Print the original numbers and their respective sums of digits\n",
    "for i in range(len(numbers)):\n",
    "    print(f\"Number: {numbers[i]}, Sum of digits: {sums[i]}\")"
   ]
  },
  {
   "cell_type": "markdown",
   "id": "b8f97c40-88b3-486e-bc1a-e21f2263a831",
   "metadata": {},
   "source": [
    "22. Write a program to find the prime factors of a given number using a `for` loop and list comprehension."
   ]
  },
  {
   "cell_type": "code",
   "execution_count": 10,
   "id": "6a6b8169-86ea-4538-a5d6-5600741b2bc5",
   "metadata": {},
   "outputs": [
    {
     "name": "stdin",
     "output_type": "stream",
     "text": [
      "Enter a number:  10\n"
     ]
    },
    {
     "name": "stdout",
     "output_type": "stream",
     "text": [
      "Prime factors of 10: [2, 5]\n"
     ]
    }
   ],
   "source": [
    "# Function to find prime factors of a number\n",
    "def prime_factors(n):\n",
    "    factors = []\n",
    "    divisor = 2\n",
    "    \n",
    "    while divisor <= n:\n",
    "        if n % divisor == 0:\n",
    "            factors.append(divisor)\n",
    "            n = n // divisor\n",
    "        else:\n",
    "            divisor += 1\n",
    "    \n",
    "    return factors\n",
    "\n",
    "# Input the number from the user\n",
    "num = int(input(\"Enter a number: \"))\n",
    "\n",
    "# Find and print the prime factors using list comprehension\n",
    "factors = prime_factors(num)\n",
    "\n",
    "print(f\"Prime factors of {num}: {factors}\")"
   ]
  },
  {
   "cell_type": "markdown",
   "id": "eee41805-72c7-43b3-b987-90320cbedcaa",
   "metadata": {},
   "source": [
    "23. Develop a program that extracts unique elements from a list and stores them in a new list using a list\n",
    "comprehension."
   ]
  },
  {
   "cell_type": "code",
   "execution_count": 11,
   "id": "85671227-cc2b-4837-9b1e-19c384a06e04",
   "metadata": {},
   "outputs": [
    {
     "name": "stdout",
     "output_type": "stream",
     "text": [
      "Original List: [1, 2, 2, 3, 4, 4, 5, 6, 6, 7]\n",
      "Unique Elements: [1, 2, 3, 4, 5, 6, 7]\n"
     ]
    }
   ],
   "source": [
    "# Original list with duplicate elements\n",
    "original_list = [1, 2, 2, 3, 4, 4, 5, 6, 6, 7]\n",
    "\n",
    "# Use list comprehension to extract unique elements\n",
    "unique_list = []\n",
    "[unique_list.append(x) for x in original_list if x not in unique_list]\n",
    "\n",
    "# Print the unique elements\n",
    "print(\"Original List:\", original_list)\n",
    "print(\"Unique Elements:\", unique_list)"
   ]
  },
  {
   "cell_type": "markdown",
   "id": "279bea2f-70e8-483d-8330-b0bd540a8043",
   "metadata": {},
   "source": [
    "24. Create a program that generates a list of all palindromic numbers up to a specified limit using a list\n",
    "comprehension."
   ]
  },
  {
   "cell_type": "code",
   "execution_count": 13,
   "id": "884334e6-bbfa-469c-99bc-cdc49392ca18",
   "metadata": {},
   "outputs": [
    {
     "name": "stdin",
     "output_type": "stream",
     "text": [
      "Enter the limit:  121\n"
     ]
    },
    {
     "name": "stdout",
     "output_type": "stream",
     "text": [
      "Palindromic Numbers up to the limit: [1, 2, 3, 4, 5, 6, 7, 8, 9, 11, 22, 33, 44, 55, 66, 77, 88, 99, 101, 111, 121]\n"
     ]
    }
   ],
   "source": [
    "# Function to check if a number is a palindrome\n",
    "def is_palindrome(number):\n",
    "    return str(number) == str(number)[::-1]\n",
    "\n",
    "# Input the limit from the user\n",
    "limit = int(input(\"Enter the limit: \"))\n",
    "\n",
    "# Use list comprehension to generate a list of palindromic numbers up to the limit\n",
    "palindromic_numbers = [num for num in range(1, limit + 1) if is_palindrome(num)]\n",
    "\n",
    "# Print the list of palindromic numbers\n",
    "print(\"Palindromic Numbers up to the limit:\", palindromic_numbers)"
   ]
  },
  {
   "cell_type": "markdown",
   "id": "7cde3b99-96eb-41e2-b547-317195661917",
   "metadata": {},
   "source": [
    "25. Write a program to flatten a nested list using list comprehension."
   ]
  },
  {
   "cell_type": "code",
   "execution_count": 14,
   "id": "f5c5dda3-8486-470b-a003-5df3f4697791",
   "metadata": {},
   "outputs": [
    {
     "name": "stdout",
     "output_type": "stream",
     "text": [
      "Nested List: [1, [2, 3], [4, [5, 6]], 7]\n",
      "Flattened List: [1, 2, 3, 4, 5, 6, 7]\n"
     ]
    }
   ],
   "source": [
    "# Function to flatten a nested list using recursion\n",
    "def flatten_list(nested_list):\n",
    "    flattened = []\n",
    "    for item in nested_list:\n",
    "        if isinstance(item, list):\n",
    "            flattened.extend(flatten_list(item))\n",
    "        else:\n",
    "            flattened.append(item)\n",
    "    return flattened\n",
    "\n",
    "# Example nested list\n",
    "nested_list = [1, [2, 3], [4, [5, 6]], 7]\n",
    "\n",
    "# Use list comprehension to flatten the nested list\n",
    "flattened_list = flatten_list(nested_list)\n",
    "\n",
    "# Print the flattened list\n",
    "print(\"Nested List:\", nested_list)\n",
    "print(\"Flattened List:\", flattened_list)"
   ]
  },
  {
   "cell_type": "markdown",
   "id": "0d9517c2-e95f-4148-a393-38298ff69920",
   "metadata": {},
   "source": [
    "26. Develop a program that computes the sum of even and odd numbers in a list separately using list\n",
    "comprehension."
   ]
  },
  {
   "cell_type": "code",
   "execution_count": 15,
   "id": "868bf6c7-a0ac-46d0-94e8-d3bb5b117cac",
   "metadata": {},
   "outputs": [
    {
     "name": "stdout",
     "output_type": "stream",
     "text": [
      "Original List: [1, 2, 3, 4, 5, 6, 7, 8, 9, 10]\n",
      "Even Numbers: [2, 4, 6, 8, 10]\n",
      "Odd Numbers: [1, 3, 5, 7, 9]\n",
      "Sum of Even Numbers: 30\n",
      "Sum of Odd Numbers: 25\n"
     ]
    }
   ],
   "source": [
    "# Sample list of numbers\n",
    "numbers = [1, 2, 3, 4, 5, 6, 7, 8, 9, 10]\n",
    "\n",
    "# Use list comprehension to separate even and odd numbers\n",
    "even_numbers = [num for num in numbers if num % 2 == 0]\n",
    "odd_numbers = [num for num in numbers if num % 2 != 0]\n",
    "\n",
    "# Calculate the sum of even and odd numbers using built-in sum function\n",
    "sum_even = sum(even_numbers)\n",
    "sum_odd = sum(odd_numbers)\n",
    "\n",
    "# Print the sums\n",
    "print(\"Original List:\", numbers)\n",
    "print(\"Even Numbers:\", even_numbers)\n",
    "print(\"Odd Numbers:\", odd_numbers)\n",
    "print(\"Sum of Even Numbers:\", sum_even)\n",
    "print(\"Sum of Odd Numbers:\", sum_odd)"
   ]
  },
  {
   "cell_type": "markdown",
   "id": "864991a5-d31b-4c3c-ae63-4f51d77b15ad",
   "metadata": {},
   "source": [
    "27. Create a program that generates a list of squares of odd numbers between 1 and 10 using list\n",
    "comprehension."
   ]
  },
  {
   "cell_type": "code",
   "execution_count": 16,
   "id": "1c6b2f31-ab4f-4ed1-8d69-391820805d9a",
   "metadata": {},
   "outputs": [
    {
     "name": "stdout",
     "output_type": "stream",
     "text": [
      "Squares of Odd Numbers between 1 and 10: [1, 9, 25, 49, 81]\n"
     ]
    }
   ],
   "source": [
    "# Use list comprehension to generate a list of squares of odd numbers between 1 and 10\n",
    "squares_of_odd_numbers = [x**2 for x in range(1, 11) if x % 2 != 0]\n",
    "\n",
    "# Print the list of squares of odd numbers\n",
    "print(\"Squares of Odd Numbers between 1 and 10:\", squares_of_odd_numbers)"
   ]
  },
  {
   "cell_type": "markdown",
   "id": "abde01bf-b590-4bb8-a647-a3fb26df87fc",
   "metadata": {},
   "source": [
    "28. Write a program that combines two lists into a dictionary using list comprehension."
   ]
  },
  {
   "cell_type": "code",
   "execution_count": 17,
   "id": "55e4ece4-7cd2-46a2-90b2-c8d70827ba27",
   "metadata": {},
   "outputs": [
    {
     "name": "stdout",
     "output_type": "stream",
     "text": [
      "Combined Dictionary: {'name': 'Alice', 'age': 25, 'city': 'New York'}\n"
     ]
    }
   ],
   "source": [
    "# Two lists: keys and values\n",
    "keys = ['name', 'age', 'city']\n",
    "values = ['Alice', 25, 'New York']\n",
    "\n",
    "# Combine the two lists into a dictionary using list comprehension\n",
    "combined_dict = {keys[i]: values[i] for i in range(len(keys))}\n",
    "\n",
    "# Print the resulting dictionary\n",
    "print(\"Combined Dictionary:\", combined_dict)"
   ]
  },
  {
   "cell_type": "markdown",
   "id": "a9f4b45f-b149-4227-b31d-f95a429cd132",
   "metadata": {},
   "source": [
    "29. Develop a program that extracts the vowels from a string and stores them in a list using list comprehension."
   ]
  },
  {
   "cell_type": "code",
   "execution_count": 18,
   "id": "2d87046b-46e4-4285-ba33-5c6a36ceb821",
   "metadata": {},
   "outputs": [
    {
     "name": "stdin",
     "output_type": "stream",
     "text": [
      "Enter a string:  Shweta\n"
     ]
    },
    {
     "name": "stdout",
     "output_type": "stream",
     "text": [
      "Vowels in the string: ['e', 'a']\n"
     ]
    }
   ],
   "source": [
    "# Input a string from the user\n",
    "input_string = input(\"Enter a string: \")\n",
    "\n",
    "# Use list comprehension to extract the vowels\n",
    "vowels = [char for char in input_string if char.lower() in 'aeiouAEIOU']\n",
    "\n",
    "# Print the list of vowels\n",
    "print(\"Vowels in the string:\", vowels)"
   ]
  },
  {
   "cell_type": "markdown",
   "id": "34e21e10-ad1a-444d-b520-8ae0a2ac90bf",
   "metadata": {},
   "source": [
    "30. Create a program that removes all non-numeric characters from a list of strings using list comprehension."
   ]
  },
  {
   "cell_type": "code",
   "execution_count": 20,
   "id": "84bc39e2-9052-42c2-b7bf-374a9eb250ea",
   "metadata": {},
   "outputs": [
    {
     "name": "stdout",
     "output_type": "stream",
     "text": [
      "Original List: ['abc123', '45def', 'gh67i', 'jk8l9']\n",
      "Numeric Strings: ['123', '45', '67', '89']\n"
     ]
    }
   ],
   "source": [
    "# List of strings containing both numeric and non-numeric characters\n",
    "string_list = [\"abc123\", \"45def\", \"gh67i\", \"jk8l9\"]\n",
    "\n",
    "# Use list comprehension to remove non-numeric characters\n",
    "numeric_strings = [''.join(filter(str.isdigit, string)) for string in string_list]\n",
    "\n",
    "# Print the list of numeric strings\n",
    "print(\"Original List:\", string_list)\n",
    "print(\"Numeric Strings:\", numeric_strings)"
   ]
  },
  {
   "cell_type": "markdown",
   "id": "3ae1ca43-f488-4901-bdc4-b457e3ce15e7",
   "metadata": {},
   "source": [
    "Challenge Level:"
   ]
  },
  {
   "cell_type": "markdown",
   "id": "b7bef255-fc6f-403e-a944-74bdd4ec7062",
   "metadata": {},
   "source": [
    "31. Write a program to generate a list of prime numbers using the Sieve of Eratosthenes algorithm and list\n",
    "comprehension."
   ]
  },
  {
   "cell_type": "code",
   "execution_count": 21,
   "id": "ed7e7d7e-428b-4fc6-a619-7afe28e81905",
   "metadata": {},
   "outputs": [
    {
     "name": "stdin",
     "output_type": "stream",
     "text": [
      "Enter the limit for prime numbers:  10\n"
     ]
    },
    {
     "name": "stdout",
     "output_type": "stream",
     "text": [
      "Prime Numbers up to 10 : [2, 3, 5, 7]\n"
     ]
    }
   ],
   "source": [
    "def sieve_eratosthenes(limit):\n",
    "    # Create a list of True values to represent numbers from 0 to the limit\n",
    "    sieve = [True] * (limit + 1)\n",
    "    sieve[0] = sieve[1] = False  # 0 and 1 are not prime numbers\n",
    "\n",
    "    for current_num in range(2, int(limit**0.5) + 1):\n",
    "        if sieve[current_num]:\n",
    "            for multiple in range(current_num**2, limit + 1, current_num):\n",
    "                sieve[multiple] = False\n",
    "\n",
    "    # Use list comprehension to extract prime numbers\n",
    "    primes = [num for num, is_prime in enumerate(sieve) if is_prime]\n",
    "\n",
    "    return primes\n",
    "\n",
    "# Input the limit for prime number generation\n",
    "limit = int(input(\"Enter the limit for prime numbers: \"))\n",
    "\n",
    "# Generate and print the list of prime numbers up to the limit\n",
    "prime_numbers = sieve_eratosthenes(limit)\n",
    "print(\"Prime Numbers up to\", limit, \":\", prime_numbers)"
   ]
  },
  {
   "cell_type": "markdown",
   "id": "24226ede-e110-4f20-a37a-f39d8495e9be",
   "metadata": {},
   "source": [
    "32. Create a program that generates a list of all Pythagorean triplets up to a specified limit using list\n",
    "comprehension."
   ]
  },
  {
   "cell_type": "code",
   "execution_count": 24,
   "id": "ccb52817-08c6-4aeb-8522-4b48b0d3802a",
   "metadata": {},
   "outputs": [
    {
     "name": "stdin",
     "output_type": "stream",
     "text": [
      "Enter the limit for generating Pythagorean triplets:  10\n"
     ]
    },
    {
     "name": "stdout",
     "output_type": "stream",
     "text": [
      "Pythagorean Triplets up to 10 : [(3, 4, 5)]\n"
     ]
    }
   ],
   "source": [
    "# Function to check if a triplet is a Pythagorean triplet\n",
    "def is_pythagorean_triplet(a, b, c):\n",
    "    return a**2 + b**2 == c**2\n",
    "\n",
    "# Input the limit for generating Pythagorean triplets\n",
    "limit = int(input(\"Enter the limit for generating Pythagorean triplets: \"))\n",
    "\n",
    "# Use list comprehension to generate Pythagorean triplets\n",
    "triplets = [(a, b, c) for a in range(1, limit) for b in range(a, limit) for c in range(b, limit) if is_pythagorean_triplet(a, b, c)]\n",
    "\n",
    "# Print the list of Pythagorean triplets\n",
    "print(\"Pythagorean Triplets up to\", limit, \":\", triplets)"
   ]
  },
  {
   "cell_type": "markdown",
   "id": "20d7c8da-fb3b-4fc9-9265-5857c46ebc56",
   "metadata": {},
   "source": [
    "33. Develop a program that generates a list of all possible combinations of two lists using list comprehension."
   ]
  },
  {
   "cell_type": "code",
   "execution_count": 25,
   "id": "b235dd01-8a61-4af4-87a5-c3767c6a7935",
   "metadata": {},
   "outputs": [
    {
     "name": "stdout",
     "output_type": "stream",
     "text": [
      "List 1: [1, 2, 3]\n",
      "List 2: ['a', 'b']\n",
      "All Possible Combinations:\n",
      "(1, 'a')\n",
      "(1, 'b')\n",
      "(2, 'a')\n",
      "(2, 'b')\n",
      "(3, 'a')\n",
      "(3, 'b')\n"
     ]
    }
   ],
   "source": [
    "# Two example lists\n",
    "list1 = [1, 2, 3]\n",
    "list2 = ['a', 'b']\n",
    "\n",
    "# Use list comprehension to generate all possible combinations\n",
    "combinations = [(x, y) for x in list1 for y in list2]\n",
    "\n",
    "# Print the list of combinations\n",
    "print(\"List 1:\", list1)\n",
    "print(\"List 2:\", list2)\n",
    "print(\"All Possible Combinations:\")\n",
    "for combination in combinations:\n",
    "    print(combination)"
   ]
  },
  {
   "cell_type": "markdown",
   "id": "03e73cbc-eb7a-4da2-aafd-7a523df93d09",
   "metadata": {},
   "source": [
    "34. Write a program that calculates the mean, median, and mode of a list of numbers using list\n",
    "comprehension."
   ]
  },
  {
   "cell_type": "code",
   "execution_count": 26,
   "id": "2d5e1bfb-10df-4a51-a97d-f50146e8fee3",
   "metadata": {},
   "outputs": [
    {
     "name": "stdout",
     "output_type": "stream",
     "text": [
      "List of Numbers: [1, 2, 3, 4, 5, 5, 6, 7, 8, 9]\n",
      "Mean: 5.0\n",
      "Median: 5.0\n",
      "Mode: 5\n"
     ]
    }
   ],
   "source": [
    "import statistics\n",
    "\n",
    "# Sample list of numbers\n",
    "numbers = [1, 2, 3, 4, 5, 5, 6, 7, 8, 9]\n",
    "\n",
    "# Calculate mean using list comprehension\n",
    "mean = sum(numbers) / len(numbers)\n",
    "\n",
    "# Calculate median using list comprehension\n",
    "sorted_numbers = sorted(numbers)\n",
    "middle = len(sorted_numbers) // 2\n",
    "median = (sorted_numbers[middle] + sorted_numbers[~middle]) / 2\n",
    "\n",
    "# Calculate mode using list comprehension\n",
    "mode = max(set(numbers), key=numbers.count)\n",
    "\n",
    "# Print the results\n",
    "print(\"List of Numbers:\", numbers)\n",
    "print(\"Mean:\", mean)\n",
    "print(\"Median:\", median)\n",
    "print(\"Mode:\", mode)"
   ]
  },
  {
   "cell_type": "markdown",
   "id": "4b2a9653-53fd-439d-b57e-50710b8f57f3",
   "metadata": {},
   "source": [
    "35. Create a program that generates Pascal's triangle up to a specified number of rows using list\n",
    "comprehension."
   ]
  },
  {
   "cell_type": "code",
   "execution_count": 27,
   "id": "d38f6dd1-f3ee-4a9b-a06d-db298edbee6e",
   "metadata": {},
   "outputs": [
    {
     "name": "stdin",
     "output_type": "stream",
     "text": [
      "Enter the number of rows for Pascal's triangle:  4\n"
     ]
    },
    {
     "name": "stdout",
     "output_type": "stream",
     "text": [
      "     1      \n",
      "    1 1     \n",
      "   1 2 1    \n",
      "  1 3 3 1   \n"
     ]
    }
   ],
   "source": [
    "# Function to generate Pascal's triangle up to n rows\n",
    "def generate_pascals_triangle(n):\n",
    "    if n <= 0:\n",
    "        return []\n",
    "\n",
    "    triangle = [[1]]\n",
    "    while len(triangle) < n:\n",
    "        prev_row = triangle[-1]\n",
    "        new_row = [1] + [prev_row[i] + prev_row[i + 1] for i in range(len(prev_row) - 1)] + [1]\n",
    "        triangle.append(new_row)\n",
    "\n",
    "    return triangle\n",
    "\n",
    "# Input the number of rows for Pascal's triangle\n",
    "num_rows = int(input(\"Enter the number of rows for Pascal's triangle: \"))\n",
    "\n",
    "# Generate and print Pascal's triangle using list comprehension\n",
    "pascals_triangle = generate_pascals_triangle(num_rows)\n",
    "for row in pascals_triangle:\n",
    "    print(' '.join(map(str, row)).center(num_rows * 3))"
   ]
  },
  {
   "cell_type": "markdown",
   "id": "a0ef6aa0-7cda-4348-9b83-30fbea3bfdb4",
   "metadata": {},
   "source": [
    "36. Develop a program that calculates the sum of the digits of a factorial of numbers from 1 to 5 using list\n",
    "comprehension."
   ]
  },
  {
   "cell_type": "code",
   "execution_count": 28,
   "id": "0c8962ad-2471-4a0b-825b-b28edb6970a6",
   "metadata": {},
   "outputs": [
    {
     "name": "stdout",
     "output_type": "stream",
     "text": [
      "Factorial of 1: 1, Sum of digits: 1\n",
      "Factorial of 2: 2, Sum of digits: 2\n",
      "Factorial of 3: 6, Sum of digits: 6\n",
      "Factorial of 4: 24, Sum of digits: 6\n",
      "Factorial of 5: 120, Sum of digits: 3\n"
     ]
    }
   ],
   "source": [
    "# Function to calculate the factorial of a number\n",
    "def factorial(n):\n",
    "    if n == 0:\n",
    "        return 1\n",
    "    return n * factorial(n - 1)\n",
    "\n",
    "# Use list comprehension to calculate factorials\n",
    "factorials = [factorial(n) for n in range(1, 6)]\n",
    "\n",
    "# Use list comprehension to calculate the sum of digits of factorials\n",
    "sums_of_digits = [sum(int(digit) for digit in str(f)) for f in factorials]\n",
    "\n",
    "# Print the results\n",
    "for n, factorial_value, digit_sum in zip(range(1, 6), factorials, sums_of_digits):\n",
    "    print(f\"Factorial of {n}: {factorial_value}, Sum of digits: {digit_sum}\")"
   ]
  },
  {
   "cell_type": "markdown",
   "id": "ff8c662e-609d-4a97-9323-4b49001d37f8",
   "metadata": {},
   "source": [
    "37. Write a program that finds the longest word in a sentence using list comprehension."
   ]
  },
  {
   "cell_type": "code",
   "execution_count": 30,
   "id": "a82e0216-b148-4cf1-8ae6-582eaae800e3",
   "metadata": {},
   "outputs": [
    {
     "name": "stdin",
     "output_type": "stream",
     "text": [
      "Enter a sentence:  shweta kadganche\n"
     ]
    },
    {
     "name": "stdout",
     "output_type": "stream",
     "text": [
      "Longest Word in the Sentence: kadganche\n"
     ]
    }
   ],
   "source": [
    "# Input a sentence from the user\n",
    "sentence = input(\"Enter a sentence: \")\n",
    "\n",
    "# Use list comprehension to split the sentence into words\n",
    "words = sentence.split()\n",
    "\n",
    "# Find the longest word using list comprehension\n",
    "longest_word = max(words, key=len)\n",
    "\n",
    "# Print the longest word\n",
    "print(\"Longest Word in the Sentence:\", longest_word)"
   ]
  },
  {
   "cell_type": "markdown",
   "id": "ee62788e-58e4-4181-a7a8-367550e5b64d",
   "metadata": {},
   "source": [
    "38. Create a program that filters a list of strings to include only those with more than three vowels using list\n",
    "comprehension."
   ]
  },
  {
   "cell_type": "code",
   "execution_count": 32,
   "id": "df5bffa0-a5c9-4290-9848-93836b4183fb",
   "metadata": {},
   "outputs": [
    {
     "name": "stdout",
     "output_type": "stream",
     "text": [
      "Original List: ['apple', 'banana', 'cherry', 'date', 'fig', 'grape', 'kiwi']\n",
      "Strings with More Than Three Vowels: []\n"
     ]
    }
   ],
   "source": [
    "# Function to count vowels in a string\n",
    "def count_vowels(string):\n",
    "    vowels = \"AEIOUaeiou\"\n",
    "    return sum(1 for char in string if char in vowels)\n",
    "\n",
    "# List of strings\n",
    "string_list = [\"apple\", \"banana\", \"cherry\", \"date\", \"fig\", \"grape\", \"kiwi\"]\n",
    "\n",
    "# Use list comprehension to filter strings with more than three vowels\n",
    "filtered_strings = [string for string in string_list if count_vowels(string) > 3]\n",
    "\n",
    "# Print the filtered strings\n",
    "print(\"Original List:\", string_list)\n",
    "print(\"Strings with More Than Three Vowels:\", filtered_strings)"
   ]
  },
  {
   "cell_type": "markdown",
   "id": "e695167e-81c0-403d-9ea2-c3fcb9be815c",
   "metadata": {},
   "source": [
    "39. Develop a program that calculates the sum of the digits of numbers from 1 to 1000 using list\n",
    "comprehension."
   ]
  },
  {
   "cell_type": "code",
   "execution_count": 33,
   "id": "fce064fc-1d3f-44c7-ac24-8700e9c466d5",
   "metadata": {},
   "outputs": [
    {
     "name": "stdout",
     "output_type": "stream",
     "text": [
      "Sum of Digits of Numbers from 1 to 1000: 13501\n"
     ]
    }
   ],
   "source": [
    "# Function to calculate the sum of the digits of a number\n",
    "def sum_of_digits(number):\n",
    "    return sum(int(digit) for digit in str(number))\n",
    "\n",
    "# Use list comprehension to calculate the sum of digits for numbers from 1 to 1000\n",
    "sums = [sum_of_digits(number) for number in range(1, 1001)]\n",
    "\n",
    "# Calculate and print the total sum\n",
    "total_sum = sum(sums)\n",
    "print(\"Sum of Digits of Numbers from 1 to 1000:\", total_sum)"
   ]
  },
  {
   "cell_type": "markdown",
   "id": "4997be95-74d7-4e84-aeb5-0a88c839e3c0",
   "metadata": {},
   "source": [
    "40. Write a program that generates a list of prime palindromic numbers using list comprehension."
   ]
  },
  {
   "cell_type": "code",
   "execution_count": 34,
   "id": "a272c783-8be5-4cdb-a6ee-d7a914ccef13",
   "metadata": {},
   "outputs": [
    {
     "name": "stdout",
     "output_type": "stream",
     "text": [
      "Prime Palindromic Numbers: [2, 3, 5, 7, 11, 101, 131, 151, 181, 191, 313, 353, 373, 383, 727, 757, 787, 797, 919, 929]\n"
     ]
    }
   ],
   "source": [
    "# Function to check if a number is prime\n",
    "def is_prime(n):\n",
    "    if n <= 1:\n",
    "        return False\n",
    "    if n <= 3:\n",
    "        return True\n",
    "    if n % 2 == 0 or n % 3 == 0:\n",
    "        return False\n",
    "    i = 5\n",
    "    while i * i <= n:\n",
    "        if n % i == 0 or n % (i + 2) == 0:\n",
    "            return False\n",
    "        i += 6\n",
    "    return True\n",
    "\n",
    "# Function to check if a number is a palindrome\n",
    "def is_palindrome(n):\n",
    "    return str(n) == str(n)[::-1]\n",
    "\n",
    "# Generate a list of prime palindromic numbers using list comprehension\n",
    "prime_palindromes = [num for num in range(1, 1000) if is_prime(num) and is_palindrome(num)]\n",
    "\n",
    "# Print the list of prime palindromic numbers\n",
    "print(\"Prime Palindromic Numbers:\", prime_palindromes)"
   ]
  }
 ],
 "metadata": {
  "kernelspec": {
   "display_name": "Python 3 (ipykernel)",
   "language": "python",
   "name": "python3"
  },
  "language_info": {
   "codemirror_mode": {
    "name": "ipython",
    "version": 3
   },
   "file_extension": ".py",
   "mimetype": "text/x-python",
   "name": "python",
   "nbconvert_exporter": "python",
   "pygments_lexer": "ipython3",
   "version": "3.10.8"
  }
 },
 "nbformat": 4,
 "nbformat_minor": 5
}
